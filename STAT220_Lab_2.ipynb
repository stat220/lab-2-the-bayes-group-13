{
  "nbformat": 4,
  "nbformat_minor": 0,
  "metadata": {
    "colab": {
      "provenance": [],
      "collapsed_sections": [
        "3sK-z4iwb4vo",
        "rDit7ktVcprD",
        "5_9A3fbrdGgn",
        "j55s_H8jd1-h",
        "x_nD27hud7ex",
        "dcblvOU9da_8",
        "pyyi64IFdn6i"
      ]
    },
    "kernelspec": {
      "name": "python3",
      "display_name": "Python 3"
    },
    "language_info": {
      "name": "python"
    }
  },
  "cells": [
    {
      "cell_type": "markdown",
      "source": [
        "# Stat 220 Lab 2: Probability Calculation for Red Dragon Inn"
      ],
      "metadata": {
        "id": "wrOmTCqbbvf7"
      }
    },
    {
      "cell_type": "markdown",
      "source": [
        "### Function A"
      ],
      "metadata": {
        "id": "j55s_H8jd1-h"
      }
    },
    {
      "cell_type": "markdown",
      "source": [
        "Calculating the probability of rolling m dice, each with n sides, and having the sum of the dice be greater than x. This calculation should only be implemented for m = 1 through 4 and n is at most 20."
      ],
      "metadata": {
        "id": "S_mSiwkkeB5n"
      }
    },
    {
      "cell_type": "code",
      "source": [
        "def functionA(m,n,x):\n",
        "  \"\"\"\n",
        "  Calculates the probability of rolling m dice, each with n sides, and having the sum of the dice be greater than x.\n",
        "\n",
        "  Args:\n",
        "    m: The number of dice.\n",
        "    n: The number of sides on each die.\n",
        "    x: The target sum.\n",
        "\n",
        "  Returns:\n",
        "    The probability of the sum of the dice being greater than x.\n",
        "  \"\"\"\n",
        "  # Generate all possible rolls\n",
        "  rolls = list(itertools.product(range(1, n+1), repeat=m))\n",
        "\n",
        "  # Calculate the sum of each roll\n",
        "  sums = np.array([sum(roll) for roll in rolls])\n",
        "\n",
        "  # Calculate the probability of the sum being greater than x\n",
        "  return np.mean(sums > x)"
      ],
      "metadata": {
        "id": "Axr7hZ_jzsXA"
      },
      "execution_count": 25,
      "outputs": []
    },
    {
      "cell_type": "markdown",
      "source": [
        "**Test Cases**"
      ],
      "metadata": {
        "id": "zab0F5uC13do"
      }
    },
    {
      "cell_type": "code",
      "source": [
        "functionA(1,20,16)"
      ],
      "metadata": {
        "colab": {
          "base_uri": "https://localhost:8080/"
        },
        "id": "sQHCacRVs1lh",
        "outputId": "43e24868-144e-4265-e2f8-bd77a046d13d"
      },
      "execution_count": 26,
      "outputs": [
        {
          "output_type": "execute_result",
          "data": {
            "text/plain": [
              "0.2"
            ]
          },
          "metadata": {},
          "execution_count": 26
        }
      ]
    },
    {
      "cell_type": "code",
      "source": [
        "functionA(3,4,9)"
      ],
      "metadata": {
        "colab": {
          "base_uri": "https://localhost:8080/"
        },
        "id": "XeL5e_1itTIi",
        "outputId": "5653960c-fdb1-4206-981c-470b144017f2"
      },
      "execution_count": 27,
      "outputs": [
        {
          "output_type": "execute_result",
          "data": {
            "text/plain": [
              "0.15625"
            ]
          },
          "metadata": {},
          "execution_count": 27
        }
      ]
    },
    {
      "cell_type": "code",
      "source": [
        "functionA(2,6,11)"
      ],
      "metadata": {
        "colab": {
          "base_uri": "https://localhost:8080/"
        },
        "id": "gPXelHN9tZaL",
        "outputId": "af136c71-487b-4d35-bb99-37a84b3c2e9f"
      },
      "execution_count": 28,
      "outputs": [
        {
          "output_type": "execute_result",
          "data": {
            "text/plain": [
              "0.027777777777777776"
            ]
          },
          "metadata": {},
          "execution_count": 28
        }
      ]
    },
    {
      "cell_type": "code",
      "source": [
        "functionA(1,100,50)"
      ],
      "metadata": {
        "colab": {
          "base_uri": "https://localhost:8080/"
        },
        "id": "OtYGrEzHtrpq",
        "outputId": "cb8df271-e5df-4609-ea92-6c124dfe6467"
      },
      "execution_count": 13,
      "outputs": [
        {
          "output_type": "execute_result",
          "data": {
            "text/plain": [
              "0.5"
            ]
          },
          "metadata": {},
          "execution_count": 13
        }
      ]
    },
    {
      "cell_type": "markdown",
      "source": [
        "### Function B"
      ],
      "metadata": {
        "id": "x_nD27hud7ex"
      }
    },
    {
      "cell_type": "markdown",
      "source": [
        "Determining the probability of rolling m dice, each with n sides, and having at least one die show a value greater than or equal to x."
      ],
      "metadata": {
        "id": "OltsiGpaeFJV"
      }
    },
    {
      "cell_type": "code",
      "source": [
        "def functionB (m, n, x):\n",
        "  \"\"\"\n",
        "  Calculates the probability of rolling m dice, each with n sides, and having at least one die show a value greater than or equal to x.\n",
        "\n",
        "  Args:\n",
        "    m: The number of dice.\n",
        "    n: The number of sides on each die.\n",
        "    x: The target value.\n",
        "\n",
        "  Returns:\n",
        "    The probability of having at least one die show a value greater than or equal to x.\n",
        "  \"\"\"\n",
        "  # Generate all possible rolls\n",
        "  rolls = list(itertools.product(range(1, n+1), repeat=m))\n",
        "\n",
        "  # Count the number of rolls with at least one die showing a value greater than or equal to x\n",
        "  count = 0\n",
        "  for roll in rolls:\n",
        "    if any(die >= x for die in roll):\n",
        "      count += 1\n",
        "\n",
        "  # Calculate the probability\n",
        "  return count / len(rolls)"
      ],
      "metadata": {
        "id": "4tzKGAI80E2T"
      },
      "execution_count": 29,
      "outputs": []
    },
    {
      "cell_type": "markdown",
      "source": [
        "**Test Cases**"
      ],
      "metadata": {
        "id": "2yxvS55h19Yz"
      }
    },
    {
      "cell_type": "code",
      "source": [
        "functionB(2,6,1)"
      ],
      "metadata": {
        "colab": {
          "base_uri": "https://localhost:8080/"
        },
        "id": "pyrFymJeuRNo",
        "outputId": "e8abc38d-d836-48e1-ae07-d47581d0d6de"
      },
      "execution_count": 30,
      "outputs": [
        {
          "output_type": "execute_result",
          "data": {
            "text/plain": [
              "1.0"
            ]
          },
          "metadata": {},
          "execution_count": 30
        }
      ]
    },
    {
      "cell_type": "code",
      "source": [
        "functionB(2,6,6)"
      ],
      "metadata": {
        "colab": {
          "base_uri": "https://localhost:8080/"
        },
        "id": "BWYDbiQRvijA",
        "outputId": "08111c8b-00ff-4a7b-9fdf-aa47de497120"
      },
      "execution_count": 31,
      "outputs": [
        {
          "output_type": "execute_result",
          "data": {
            "text/plain": [
              "0.3055555555555556"
            ]
          },
          "metadata": {},
          "execution_count": 31
        }
      ]
    },
    {
      "cell_type": "code",
      "source": [
        "functionB(1, 100, 50)"
      ],
      "metadata": {
        "colab": {
          "base_uri": "https://localhost:8080/"
        },
        "id": "dwK9aDXUv4Zi",
        "outputId": "60568888-1815-485a-d938-6c3e6fc3d8cd"
      },
      "execution_count": 32,
      "outputs": [
        {
          "output_type": "execute_result",
          "data": {
            "text/plain": [
              "0.51"
            ]
          },
          "metadata": {},
          "execution_count": 32
        }
      ]
    },
    {
      "cell_type": "markdown",
      "source": [
        "### Evaluation"
      ],
      "metadata": {
        "id": "dcblvOU9da_8"
      }
    },
    {
      "cell_type": "markdown",
      "source": [
        "Evaluate the performance of your tool using the following scenario:\n",
        "\n",
        "A player is in a challenging situation where they have a choice. They can choose between the following challenges:\n",
        "\n",
        "• Roll 1d20 and get a result of 17 or more\n",
        "\n"
      ],
      "metadata": {
        "id": "ZBF7Ywqtdco3"
      }
    },
    {
      "cell_type": "markdown",
      "source": [
        "We calculate this by having m = 1, n = 20, and x = 16. We use 16 instead of 17 because the specification of function A requires that we calculate the number of sums greater than x instead of greater than or equal to x."
      ],
      "metadata": {
        "id": "t3-x1eUZ0Y9V"
      }
    },
    {
      "cell_type": "code",
      "source": [
        "functionA(1,20,16)"
      ],
      "metadata": {
        "colab": {
          "base_uri": "https://localhost:8080/"
        },
        "id": "T1Pwxhdpwufd",
        "outputId": "e13ca761-c4d4-4092-e4f7-c252d928d143"
      },
      "execution_count": 22,
      "outputs": [
        {
          "output_type": "execute_result",
          "data": {
            "text/plain": [
              "0.2"
            ]
          },
          "metadata": {},
          "execution_count": 22
        }
      ]
    },
    {
      "cell_type": "markdown",
      "source": [
        "*Answer: 20%*"
      ],
      "metadata": {
        "id": "4xYEOpUa08La"
      }
    },
    {
      "cell_type": "markdown",
      "source": [
        "• Roll 3d4 and get a result of 10 or more\n",
        "\n"
      ],
      "metadata": {
        "id": "BxXt0OBAwnaO"
      }
    },
    {
      "cell_type": "markdown",
      "source": [
        "We calculate this by having m = 3, n = 4, and x = 9. We use 9 instead of 10 because the specification of function A requires that we calculate the number of sums greater than x instead of greater than or equal to x."
      ],
      "metadata": {
        "id": "ukUvnJWG1E_4"
      }
    },
    {
      "cell_type": "code",
      "source": [
        "functionA(3,4,9)"
      ],
      "metadata": {
        "colab": {
          "base_uri": "https://localhost:8080/"
        },
        "id": "yyT8_ODMwybn",
        "outputId": "0c8394f5-5210-431b-e79f-0ef913a4da6f"
      },
      "execution_count": 23,
      "outputs": [
        {
          "output_type": "execute_result",
          "data": {
            "text/plain": [
              "0.15625"
            ]
          },
          "metadata": {},
          "execution_count": 23
        }
      ]
    },
    {
      "cell_type": "markdown",
      "source": [
        "*Answer: 15.625%*"
      ],
      "metadata": {
        "id": "CQ4Lb_Bt1Sw7"
      }
    },
    {
      "cell_type": "markdown",
      "source": [
        "• Roll 4d6 and have at least one dice show a 6\n",
        "\n"
      ],
      "metadata": {
        "id": "fE5gpfBBwpUW"
      }
    },
    {
      "cell_type": "markdown",
      "source": [
        "We use functionB for this case, using m = 4, n = 6, and x = 6."
      ],
      "metadata": {
        "id": "Zhzz2R_f1Ym-"
      }
    },
    {
      "cell_type": "code",
      "source": [
        "functionB(4,6,6)"
      ],
      "metadata": {
        "colab": {
          "base_uri": "https://localhost:8080/"
        },
        "id": "9KS-TX1ow0k3",
        "outputId": "31a0190b-7833-4295-c2ed-819630f966dc"
      },
      "execution_count": 24,
      "outputs": [
        {
          "output_type": "execute_result",
          "data": {
            "text/plain": [
              "0.5177469135802469"
            ]
          },
          "metadata": {},
          "execution_count": 24
        }
      ]
    },
    {
      "cell_type": "markdown",
      "source": [
        "*Answer: 51.7745%*"
      ],
      "metadata": {
        "id": "kvs7qBlh1m2a"
      }
    },
    {
      "cell_type": "markdown",
      "source": [
        "Use your tool to compute the probabilities and report the best choice for the player."
      ],
      "metadata": {
        "id": "tjdBh3mawrDr"
      }
    },
    {
      "cell_type": "markdown",
      "source": [
        "**Conclusion: Based on the results of the functions it is in the best interest to use 4d6 with at least one 6.**"
      ],
      "metadata": {
        "id": "UC7isByCySFt"
      }
    }
  ]
}